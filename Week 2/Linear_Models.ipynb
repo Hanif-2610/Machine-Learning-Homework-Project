{
  "nbformat": 4,
  "nbformat_minor": 0,
  "metadata": {
    "colab": {
      "name": "Linear Models.ipynb",
      "provenance": []
    },
    "kernelspec": {
      "name": "python3",
      "display_name": "Python 3"
    },
    "language_info": {
      "name": "python"
    }
  },
  "cells": [
    {
      "cell_type": "markdown",
      "metadata": {
        "id": "JYAJzy6jMsO7"
      },
      "source": [
        "**Ordinary Least Squares**"
      ]
    },
    {
      "cell_type": "code",
      "metadata": {
        "colab": {
          "base_uri": "https://localhost:8080/"
        },
        "id": "o-SXf4k0MZl_",
        "outputId": "816cb23e-9674-422e-ebd7-d3100dde57c0"
      },
      "source": [
        "from sklearn import linear_model\n",
        "reg = linear_model.LinearRegression()\n",
        "reg.fit([[0, 0], [1, 1], [2, 2]], [0, 1, 2])"
      ],
      "execution_count": 4,
      "outputs": [
        {
          "output_type": "execute_result",
          "data": {
            "text/plain": [
              "LinearRegression(copy_X=True, fit_intercept=True, n_jobs=None, normalize=False)"
            ]
          },
          "metadata": {},
          "execution_count": 4
        }
      ]
    },
    {
      "cell_type": "code",
      "metadata": {
        "colab": {
          "base_uri": "https://localhost:8080/"
        },
        "id": "ddNJETW6NUId",
        "outputId": "e493ed19-c90c-4003-c804-7b6de414c213"
      },
      "source": [
        "reg.coef_"
      ],
      "execution_count": 5,
      "outputs": [
        {
          "output_type": "execute_result",
          "data": {
            "text/plain": [
              "array([0.5, 0.5])"
            ]
          },
          "metadata": {},
          "execution_count": 5
        }
      ]
    },
    {
      "cell_type": "markdown",
      "metadata": {
        "id": "RT9-NfKFNcCe"
      },
      "source": [
        "**Ridge regression and classification**"
      ]
    },
    {
      "cell_type": "code",
      "metadata": {
        "colab": {
          "base_uri": "https://localhost:8080/"
        },
        "id": "Popt3y96NjAi",
        "outputId": "e4cb2426-ad11-4b9e-b65f-947b83d12c19"
      },
      "source": [
        "from sklearn import linear_model\n",
        "reg = linear_model.Ridge(alpha=.5)\n",
        "reg.fit([[0, 0], [0, 0], [1, 1]], [0, .1, 1])"
      ],
      "execution_count": 6,
      "outputs": [
        {
          "output_type": "execute_result",
          "data": {
            "text/plain": [
              "Ridge(alpha=0.5, copy_X=True, fit_intercept=True, max_iter=None,\n",
              "      normalize=False, random_state=None, solver='auto', tol=0.001)"
            ]
          },
          "metadata": {},
          "execution_count": 6
        }
      ]
    },
    {
      "cell_type": "code",
      "metadata": {
        "colab": {
          "base_uri": "https://localhost:8080/"
        },
        "id": "KqgHprcuNl1h",
        "outputId": "9b0c238e-5054-4ee3-de3a-1c7d81dc49f9"
      },
      "source": [
        "reg.coef_"
      ],
      "execution_count": 8,
      "outputs": [
        {
          "output_type": "execute_result",
          "data": {
            "text/plain": [
              "array([0.34545455, 0.34545455])"
            ]
          },
          "metadata": {},
          "execution_count": 8
        }
      ]
    },
    {
      "cell_type": "code",
      "metadata": {
        "colab": {
          "base_uri": "https://localhost:8080/"
        },
        "id": "_T1IuLGdNnpQ",
        "outputId": "ee688b3f-25ff-46ed-cb17-c4d20c387d24"
      },
      "source": [
        "reg.intercept_"
      ],
      "execution_count": 9,
      "outputs": [
        {
          "output_type": "execute_result",
          "data": {
            "text/plain": [
              "0.13636363636363638"
            ]
          },
          "metadata": {},
          "execution_count": 9
        }
      ]
    },
    {
      "cell_type": "markdown",
      "metadata": {
        "id": "1xOORxVMNzzg"
      },
      "source": [
        "**Lasso**"
      ]
    },
    {
      "cell_type": "code",
      "metadata": {
        "colab": {
          "base_uri": "https://localhost:8080/"
        },
        "id": "4e-eI36ZNo20",
        "outputId": "bff5cbdc-b658-4360-c4f0-e0f9831f6435"
      },
      "source": [
        "from sklearn import linear_model\n",
        "reg = linear_model.Lasso(alpha=0.1)\n",
        "reg.fit([[0, 0], [1, 1]], [0, 1])"
      ],
      "execution_count": 10,
      "outputs": [
        {
          "output_type": "execute_result",
          "data": {
            "text/plain": [
              "Lasso(alpha=0.1, copy_X=True, fit_intercept=True, max_iter=1000,\n",
              "      normalize=False, positive=False, precompute=False, random_state=None,\n",
              "      selection='cyclic', tol=0.0001, warm_start=False)"
            ]
          },
          "metadata": {},
          "execution_count": 10
        }
      ]
    },
    {
      "cell_type": "code",
      "metadata": {
        "colab": {
          "base_uri": "https://localhost:8080/"
        },
        "id": "aLZdTK_vN9q1",
        "outputId": "7e3ac7b7-bad9-4d62-f90c-559a82223ddb"
      },
      "source": [
        "reg.predict([[1, 1]])"
      ],
      "execution_count": 11,
      "outputs": [
        {
          "output_type": "execute_result",
          "data": {
            "text/plain": [
              "array([0.8])"
            ]
          },
          "metadata": {},
          "execution_count": 11
        }
      ]
    },
    {
      "cell_type": "markdown",
      "metadata": {
        "id": "6YYbQRTyOB4d"
      },
      "source": [
        "**LARS Lasso**"
      ]
    },
    {
      "cell_type": "code",
      "metadata": {
        "colab": {
          "base_uri": "https://localhost:8080/"
        },
        "id": "R9UdSa7lN_bW",
        "outputId": "2d1065f6-730a-447c-f403-7b99da75ee7a"
      },
      "source": [
        "from sklearn import linear_model\n",
        "reg = linear_model.LassoLars(alpha=.1, normalize=False)\n",
        "reg.fit([[0, 0], [1, 1]], [0, 1])"
      ],
      "execution_count": 12,
      "outputs": [
        {
          "output_type": "execute_result",
          "data": {
            "text/plain": [
              "LassoLars(alpha=0.1, copy_X=True, eps=2.220446049250313e-16, fit_intercept=True,\n",
              "          fit_path=True, max_iter=500, normalize=False, positive=False,\n",
              "          precompute='auto', verbose=False)"
            ]
          },
          "metadata": {},
          "execution_count": 12
        }
      ]
    },
    {
      "cell_type": "code",
      "metadata": {
        "colab": {
          "base_uri": "https://localhost:8080/"
        },
        "id": "INb-NS9IOL-h",
        "outputId": "056365cd-04c2-401e-975f-ce3e88ae3f01"
      },
      "source": [
        "reg.coef_"
      ],
      "execution_count": 13,
      "outputs": [
        {
          "output_type": "execute_result",
          "data": {
            "text/plain": [
              "array([0.6, 0. ])"
            ]
          },
          "metadata": {},
          "execution_count": 13
        }
      ]
    },
    {
      "cell_type": "markdown",
      "metadata": {
        "id": "Qr951KrVOSBu"
      },
      "source": [
        "**Bayesian Regression**"
      ]
    },
    {
      "cell_type": "code",
      "metadata": {
        "colab": {
          "base_uri": "https://localhost:8080/"
        },
        "id": "cajGcFKkON2J",
        "outputId": "bb174966-89cd-4cbf-cec8-e3976ad50705"
      },
      "source": [
        "from sklearn import linear_model\n",
        "X = [[0., 0.], [1., 1.], [2., 2.], [3., 3.]]\n",
        "Y = [0., 1., 2., 3.]\n",
        "reg = linear_model.BayesianRidge()\n",
        "reg.fit(X, Y)"
      ],
      "execution_count": 14,
      "outputs": [
        {
          "output_type": "execute_result",
          "data": {
            "text/plain": [
              "BayesianRidge(alpha_1=1e-06, alpha_2=1e-06, alpha_init=None,\n",
              "              compute_score=False, copy_X=True, fit_intercept=True,\n",
              "              lambda_1=1e-06, lambda_2=1e-06, lambda_init=None, n_iter=300,\n",
              "              normalize=False, tol=0.001, verbose=False)"
            ]
          },
          "metadata": {},
          "execution_count": 14
        }
      ]
    },
    {
      "cell_type": "code",
      "metadata": {
        "colab": {
          "base_uri": "https://localhost:8080/"
        },
        "id": "ZKVMwN8rOXcc",
        "outputId": "12a3d140-900c-491e-a72e-b683c8d97c96"
      },
      "source": [
        "reg.predict([[1, 0.]])"
      ],
      "execution_count": 15,
      "outputs": [
        {
          "output_type": "execute_result",
          "data": {
            "text/plain": [
              "array([0.50000013])"
            ]
          },
          "metadata": {},
          "execution_count": 15
        }
      ]
    },
    {
      "cell_type": "code",
      "metadata": {
        "colab": {
          "base_uri": "https://localhost:8080/"
        },
        "id": "-RUN1ZtzOZFl",
        "outputId": "772fa951-1ee9-4ed6-cdbc-9a3337a86f37"
      },
      "source": [
        "reg.coef_"
      ],
      "execution_count": 16,
      "outputs": [
        {
          "output_type": "execute_result",
          "data": {
            "text/plain": [
              "array([0.49999993, 0.49999993])"
            ]
          },
          "metadata": {},
          "execution_count": 16
        }
      ]
    },
    {
      "cell_type": "markdown",
      "metadata": {
        "id": "qEXuzBCpOfEH"
      },
      "source": [
        "**Generalized Linear Regression**"
      ]
    },
    {
      "cell_type": "code",
      "metadata": {
        "colab": {
          "base_uri": "https://localhost:8080/",
          "height": 333
        },
        "id": "4apkFDQeOaYx",
        "outputId": "c015191f-382d-4aa6-a632-525289d141a5"
      },
      "source": [
        "from sklearn.linear_model import TweedieRegressor\n",
        "reg = TweedieRegressor(power=1, alpha=0.5, link='log')\n",
        "reg.fit([[0, 0], [0, 1], [2, 2]], [0, 1, 2])"
      ],
      "execution_count": 18,
      "outputs": [
        {
          "output_type": "error",
          "ename": "ImportError",
          "evalue": "ignored",
          "traceback": [
            "\u001b[0;31m---------------------------------------------------------------------------\u001b[0m",
            "\u001b[0;31mImportError\u001b[0m                               Traceback (most recent call last)",
            "\u001b[0;32m<ipython-input-18-893c5f924fda>\u001b[0m in \u001b[0;36m<module>\u001b[0;34m()\u001b[0m\n\u001b[0;32m----> 1\u001b[0;31m \u001b[0;32mfrom\u001b[0m \u001b[0msklearn\u001b[0m\u001b[0;34m.\u001b[0m\u001b[0mlinear_model\u001b[0m \u001b[0;32mimport\u001b[0m \u001b[0mTweedieRegressor\u001b[0m\u001b[0;34m\u001b[0m\u001b[0;34m\u001b[0m\u001b[0m\n\u001b[0m\u001b[1;32m      2\u001b[0m \u001b[0mreg\u001b[0m \u001b[0;34m=\u001b[0m \u001b[0mTweedieRegressor\u001b[0m\u001b[0;34m(\u001b[0m\u001b[0mpower\u001b[0m\u001b[0;34m=\u001b[0m\u001b[0;36m1\u001b[0m\u001b[0;34m,\u001b[0m \u001b[0malpha\u001b[0m\u001b[0;34m=\u001b[0m\u001b[0;36m0.5\u001b[0m\u001b[0;34m,\u001b[0m \u001b[0mlink\u001b[0m\u001b[0;34m=\u001b[0m\u001b[0;34m'log'\u001b[0m\u001b[0;34m)\u001b[0m\u001b[0;34m\u001b[0m\u001b[0;34m\u001b[0m\u001b[0m\n\u001b[1;32m      3\u001b[0m \u001b[0mreg\u001b[0m\u001b[0;34m.\u001b[0m\u001b[0mfit\u001b[0m\u001b[0;34m(\u001b[0m\u001b[0;34m[\u001b[0m\u001b[0;34m[\u001b[0m\u001b[0;36m0\u001b[0m\u001b[0;34m,\u001b[0m \u001b[0;36m0\u001b[0m\u001b[0;34m]\u001b[0m\u001b[0;34m,\u001b[0m \u001b[0;34m[\u001b[0m\u001b[0;36m0\u001b[0m\u001b[0;34m,\u001b[0m \u001b[0;36m1\u001b[0m\u001b[0;34m]\u001b[0m\u001b[0;34m,\u001b[0m \u001b[0;34m[\u001b[0m\u001b[0;36m2\u001b[0m\u001b[0;34m,\u001b[0m \u001b[0;36m2\u001b[0m\u001b[0;34m]\u001b[0m\u001b[0;34m]\u001b[0m\u001b[0;34m,\u001b[0m \u001b[0;34m[\u001b[0m\u001b[0;36m0\u001b[0m\u001b[0;34m,\u001b[0m \u001b[0;36m1\u001b[0m\u001b[0;34m,\u001b[0m \u001b[0;36m2\u001b[0m\u001b[0;34m]\u001b[0m\u001b[0;34m)\u001b[0m\u001b[0;34m\u001b[0m\u001b[0;34m\u001b[0m\u001b[0m\n",
            "\u001b[0;31mImportError\u001b[0m: cannot import name 'TweedieRegressor' from 'sklearn.linear_model' (/usr/local/lib/python3.7/dist-packages/sklearn/linear_model/__init__.py)",
            "",
            "\u001b[0;31m---------------------------------------------------------------------------\u001b[0;32m\nNOTE: If your import is failing due to a missing package, you can\nmanually install dependencies using either !pip or !apt.\n\nTo view examples of installing some common dependencies, click the\n\"Open Examples\" button below.\n\u001b[0;31m---------------------------------------------------------------------------\u001b[0m\n"
          ],
          "errorDetails": {
            "actions": [
              {
                "action": "open_url",
                "actionText": "Open Examples",
                "url": "/notebooks/snippets/importing_libraries.ipynb"
              }
            ]
          }
        }
      ]
    },
    {
      "cell_type": "code",
      "metadata": {
        "colab": {
          "base_uri": "https://localhost:8080/"
        },
        "id": "nbNG5uT1OpqA",
        "outputId": "dbd42008-b739-4595-cc67-218887ddd58f"
      },
      "source": [
        "reg.coef_"
      ],
      "execution_count": 20,
      "outputs": [
        {
          "output_type": "execute_result",
          "data": {
            "text/plain": [
              "array([0.49999993, 0.49999993])"
            ]
          },
          "metadata": {},
          "execution_count": 20
        }
      ]
    },
    {
      "cell_type": "code",
      "metadata": {
        "colab": {
          "base_uri": "https://localhost:8080/"
        },
        "id": "_Qp_JD6kOvTM",
        "outputId": "5315eb4f-2999-4209-8bae-0346d5afda23"
      },
      "source": [
        "reg.intercept_"
      ],
      "execution_count": 21,
      "outputs": [
        {
          "output_type": "execute_result",
          "data": {
            "text/plain": [
              "2.0037987269461155e-07"
            ]
          },
          "metadata": {},
          "execution_count": 21
        }
      ]
    },
    {
      "cell_type": "markdown",
      "metadata": {
        "id": "o0aC14d7O1gy"
      },
      "source": [
        "**Polynomial regression: extending linear models with basis functions**"
      ]
    },
    {
      "cell_type": "code",
      "metadata": {
        "colab": {
          "base_uri": "https://localhost:8080/"
        },
        "id": "1Lw3SkNdOv61",
        "outputId": "803e62cc-ea04-4fe6-ed1a-f93a1a2ead2e"
      },
      "source": [
        "from sklearn.preprocessing import PolynomialFeatures\n",
        "import numpy as np\n",
        "X = np.arange(6).reshape(3, 2)\n",
        "X"
      ],
      "execution_count": 22,
      "outputs": [
        {
          "output_type": "execute_result",
          "data": {
            "text/plain": [
              "array([[0, 1],\n",
              "       [2, 3],\n",
              "       [4, 5]])"
            ]
          },
          "metadata": {},
          "execution_count": 22
        }
      ]
    },
    {
      "cell_type": "code",
      "metadata": {
        "colab": {
          "base_uri": "https://localhost:8080/"
        },
        "id": "K8paMdiDO490",
        "outputId": "51ee8005-f3df-45f9-96bf-e7bb5aeca61a"
      },
      "source": [
        "poly = PolynomialFeatures(degree=2)\n",
        "poly.fit_transform(X)"
      ],
      "execution_count": 23,
      "outputs": [
        {
          "output_type": "execute_result",
          "data": {
            "text/plain": [
              "array([[ 1.,  0.,  1.,  0.,  0.,  1.],\n",
              "       [ 1.,  2.,  3.,  4.,  6.,  9.],\n",
              "       [ 1.,  4.,  5., 16., 20., 25.]])"
            ]
          },
          "metadata": {},
          "execution_count": 23
        }
      ]
    },
    {
      "cell_type": "code",
      "metadata": {
        "colab": {
          "base_uri": "https://localhost:8080/"
        },
        "id": "1yneMhX_O7YC",
        "outputId": "747bfbe2-cec7-452d-c6a2-88817d553a24"
      },
      "source": [
        "from sklearn.preprocessing import PolynomialFeatures\n",
        "from sklearn.linear_model import LinearRegression\n",
        "from sklearn.pipeline import Pipeline\n",
        "import numpy as np\n",
        "model = Pipeline([('poly', PolynomialFeatures(degree=3)), ('linear', LinearRegression(fit_intercept=False))])\n",
        "# fit to an order-3 polynomial data\n",
        "x = np.arange(5)\n",
        "y = 3 - 2 * x + x ** 2 - x ** 3\n",
        "model = model.fit(x[:, np.newaxis], y)\n",
        "model.named_steps['linear'].coef_"
      ],
      "execution_count": 25,
      "outputs": [
        {
          "output_type": "execute_result",
          "data": {
            "text/plain": [
              "array([ 3., -2.,  1., -1.])"
            ]
          },
          "metadata": {},
          "execution_count": 25
        }
      ]
    },
    {
      "cell_type": "code",
      "metadata": {
        "colab": {
          "base_uri": "https://localhost:8080/"
        },
        "id": "yAcL20UvPEIJ",
        "outputId": "13519d66-d454-44e5-bf9f-28833c5ff2b2"
      },
      "source": [
        "from sklearn.linear_model import Perceptron\n",
        "from sklearn.preprocessing import PolynomialFeatures\n",
        "import numpy as np\n",
        "X = np.array([[0, 0], [0, 1], [1, 0], [1, 1]])\n",
        "y = X[:, 0] ^ X[:, 1]\n",
        "y"
      ],
      "execution_count": 26,
      "outputs": [
        {
          "output_type": "execute_result",
          "data": {
            "text/plain": [
              "array([0, 1, 1, 0])"
            ]
          },
          "metadata": {},
          "execution_count": 26
        }
      ]
    },
    {
      "cell_type": "code",
      "metadata": {
        "colab": {
          "base_uri": "https://localhost:8080/"
        },
        "id": "Eh5MKxTOPRpr",
        "outputId": "1c6f15f3-3df3-45be-9d8e-0d4ec16b33ec"
      },
      "source": [
        "X = PolynomialFeatures(interaction_only=True).fit_transform(X).astype(int)\n",
        "X"
      ],
      "execution_count": 27,
      "outputs": [
        {
          "output_type": "execute_result",
          "data": {
            "text/plain": [
              "array([[1, 0, 0, 0],\n",
              "       [1, 0, 1, 0],\n",
              "       [1, 1, 0, 0],\n",
              "       [1, 1, 1, 1]])"
            ]
          },
          "metadata": {},
          "execution_count": 27
        }
      ]
    },
    {
      "cell_type": "code",
      "metadata": {
        "colab": {
          "base_uri": "https://localhost:8080/"
        },
        "id": "QIa8ZMIMPT64",
        "outputId": "95159ed7-5a00-46c6-eb45-93b3661a18d5"
      },
      "source": [
        "clf = Perceptron(fit_intercept=False, max_iter=10, tol=None, shuffle=False).fit(X, y)\n",
        "clf.predict(X)"
      ],
      "execution_count": 30,
      "outputs": [
        {
          "output_type": "execute_result",
          "data": {
            "text/plain": [
              "array([0, 1, 1, 0])"
            ]
          },
          "metadata": {},
          "execution_count": 30
        }
      ]
    },
    {
      "cell_type": "code",
      "metadata": {
        "colab": {
          "base_uri": "https://localhost:8080/"
        },
        "id": "NDI6rtMjPW4y",
        "outputId": "2b3cd92b-c6f7-4310-eccc-209c7ec67672"
      },
      "source": [
        "clf.score(X, y)"
      ],
      "execution_count": 31,
      "outputs": [
        {
          "output_type": "execute_result",
          "data": {
            "text/plain": [
              "1.0"
            ]
          },
          "metadata": {},
          "execution_count": 31
        }
      ]
    },
    {
      "cell_type": "code",
      "metadata": {
        "id": "5jotKoG3Pbdc"
      },
      "source": [
        ""
      ],
      "execution_count": null,
      "outputs": []
    }
  ]
}